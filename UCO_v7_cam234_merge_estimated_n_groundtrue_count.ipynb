{
  "nbformat": 4,
  "nbformat_minor": 0,
  "metadata": {
    "colab": {
      "provenance": [],
      "gpuType": "T4",
      "authorship_tag": "ABX9TyO72o0cBiitmdTr75Hu8hOY",
      "include_colab_link": true
    },
    "kernelspec": {
      "name": "python3",
      "display_name": "Python 3"
    },
    "language_info": {
      "name": "python"
    }
  },
  "cells": [
    {
      "cell_type": "markdown",
      "metadata": {
        "id": "view-in-github",
        "colab_type": "text"
      },
      "source": [
        "<a href=\"https://colab.research.google.com/github/margaretxie/Test_Paper3_with_UCO/blob/main/UCO_v7_cam234_merge_estimated_n_groundtrue_count.ipynb\" target=\"_parent\"><img src=\"https://colab.research.google.com/assets/colab-badge.svg\" alt=\"Open In Colab\"/></a>"
      ]
    },
    {
      "cell_type": "code",
      "execution_count": null,
      "metadata": {
        "id": "KYlqkzmZseRl"
      },
      "outputs": [],
      "source": [
        "#test paper 3 - the HK one - with UCO dataset (only cam234, not cam 0 1, total 1296 videos )\n",
        "\n",
        "# Paper 3 - https://link.springer.com/article/10.1007/s13755-023-00258-3  -skeleton based repeptition count method\n",
        "# The paper's code - webpage: https://github.com/YuChengHSU/repetition-counting/tree/main\n",
        "\n",
        "# UCO dataset [paper20] - downloaded from  http://rabinf24.uco.es/avaphy/    (Outlook Emailed got access )\n",
        "\n",
        "# v7: v3_based, 33KPs_ merge_estimated_n_groundtrue_count\n",
        "# v6: v2_based, apply original paper3 model (using whole 33 KPs)\n",
        "# v5: average KP used, popular KPs analyst\n",
        "# v4: calculate obo, mea according to action types (1-16)\n",
        "# v3: merge_estimated_n_groundtrue_count\n",
        "# v2: apply paper3's model to filtered KPs which visibility >=threshold\n",
        "# v1: extract each videos' KPs  (this code only for half cameras (2,3,4))\n",
        "# v0: framework of looping all the .mp4 files, with name PnAn (Person*Action*)"
      ]
    },
    {
      "cell_type": "code",
      "source": [],
      "metadata": {
        "id": "Eol4UsT4hsbU"
      },
      "execution_count": null,
      "outputs": []
    },
    {
      "cell_type": "code",
      "source": [
        "################################# setup\n",
        "\n",
        "v=\"V7\"\n",
        "\n",
        "estimatedCountFile = \"V6_Cam234_output_202406020510pm.csv\"\n",
        "\n",
        "\n",
        "from google.colab import drive\n",
        "import pandas as pd\n",
        "import numpy as np\n",
        "import os\n",
        "\n",
        "\n",
        "# Mount Google Drive\n",
        "drive.mount('/content/gdrive')\n",
        "\n",
        "# File path on Google Drive\n",
        "input_csv_path =  '/content/gdrive/My Drive/repetition_dataset/UCO/results_cam234/V6_Cam234_output_202406020510pm.csv'\n",
        "base_path = '/content/gdrive/My Drive/repetition_dataset/UCO/results_cam234'\n",
        "\n",
        "\n",
        "output_csv_path = os.path.join(base_path,  f\"{v}_combined_estimated_and_groundtruth_counts_33KP.csv\")\n",
        "\n"
      ],
      "metadata": {
        "colab": {
          "base_uri": "https://localhost:8080/"
        },
        "id": "K4D79Bp7Z78B",
        "outputId": "8ef9f10b-4441-4faf-96f9-a4da6ebd95a2"
      },
      "execution_count": null,
      "outputs": [
        {
          "output_type": "stream",
          "name": "stdout",
          "text": [
            "Mounted at /content/gdrive\n"
          ]
        }
      ]
    },
    {
      "cell_type": "code",
      "source": [
        "################################# setup\n",
        "\n",
        "\n",
        "df = pd.read_csv(input_csv_path)\n",
        "\n",
        "# Rename the 'Video Name' column to 'Name'\n",
        "df.rename(columns={'Video Name': 'Name'}, inplace=True)\n",
        "\n",
        "# Add a new column 'count' with all values set to 4 (UCO dataset, all the actions were taken 4 times)\n",
        "df['count'] = 4\n",
        "\n",
        "# Add a new column 'type' with the two numbers after the letter 'a' in the 'Name' values\n",
        "df['type'] = df['Name'].apply(lambda x: x.split('a')[1][:2])\n",
        "\n",
        "\n",
        "# Save the updated DataFrame to the new CSV file\n",
        "df.to_csv(output_csv_path, index=False)\n",
        "\n",
        "\n",
        "print(f'\\n the combined estimated and groundtruth counts file has been save to {output_csv_path}')\n",
        "\n",
        "\n"
      ],
      "metadata": {
        "colab": {
          "base_uri": "https://localhost:8080/"
        },
        "id": "1cokoGGDizY7",
        "outputId": "1c6b1639-dcde-4b4b-f352-b4b1d104e42d"
      },
      "execution_count": null,
      "outputs": [
        {
          "output_type": "stream",
          "name": "stdout",
          "text": [
            "\n",
            " the combined estimated and groundtruth counts file has been save to /content/gdrive/My Drive/repetition_dataset/UCO/results_cam234/V7_combined_estimated_and_groundtruth_counts_33KP.csv\n"
          ]
        }
      ]
    }
  ]
}