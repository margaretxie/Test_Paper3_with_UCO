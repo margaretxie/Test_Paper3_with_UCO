{
  "nbformat": 4,
  "nbformat_minor": 0,
  "metadata": {
    "colab": {
      "provenance": [],
      "authorship_tag": "ABX9TyPSbUStTKAktkv17dtmk7Sx",
      "include_colab_link": true
    },
    "kernelspec": {
      "name": "python3",
      "display_name": "Python 3"
    },
    "language_info": {
      "name": "python"
    }
  },
  "cells": [
    {
      "cell_type": "markdown",
      "metadata": {
        "id": "view-in-github",
        "colab_type": "text"
      },
      "source": [
        "<a href=\"https://colab.research.google.com/github/margaretxie/Test_Paper3_with_UCO/blob/main/UCO_v5_cam234_aveKP_usedKP_analyst.ipynb\" target=\"_parent\"><img src=\"https://colab.research.google.com/assets/colab-badge.svg\" alt=\"Open In Colab\"/></a>"
      ]
    },
    {
      "cell_type": "code",
      "execution_count": null,
      "metadata": {
        "id": "jecQoX5JBC8p"
      },
      "outputs": [],
      "source": [
        "#test paper 3 - the HK one - with UCO dataset (only cam234, not cam 0 1, total 1296 videos ) - but skipped 1 (could not be extracted KPs) - total 1295 records\n",
        "\n",
        "# Paper 3 - https://link.springer.com/article/10.1007/s13755-023-00258-3  -skeleton based repeptition count method\n",
        "# The paper's code - webpage: https://github.com/YuChengHSU/repetition-counting/tree/main\n",
        "\n",
        "# UCO dataset [paper20] - downloaded from  http://rabinf24.uco.es/avaphy/    (Outlook Emailed got access )\n",
        "\n",
        "# v5: average KP used, popular KPs analyst\n",
        "# v4: calculate obo, mea according to action types (1-16)\n",
        "# v3: merge_estimated_n_groundtrue_count\n",
        "# v2: apply paper3's model to filtered KPs which visibility >=threshold\n",
        "# v1: extract each videos' KPs  (this code only for half cameras (2,3,4))\n",
        "# v0: framework of looping all the .mp4 files, with name PnAn (Person*Action*)"
      ]
    },
    {
      "cell_type": "code",
      "source": [
        "from types import new_class\n",
        "from google.colab import drive\n",
        "import pandas as pd\n",
        "import numpy as np\n",
        "import os\n",
        "\n",
        "# Mount Google Drive\n",
        "drive.mount('/content/gdrive')\n",
        "\n",
        "v=5\n",
        "\n",
        "# File path on Google Drive\n",
        "base_path = base_path = '/content/gdrive/My Drive/repetition_dataset/UCO/results_cam234'\n",
        "\n",
        "input_csv_path = os.path.join(base_path, 'V3_combined_estimated_and_groundtruth_counts.csv' )\n",
        "\n",
        "output_csv_path = os.path.join(base_path, f'V{v}_KP_analyst.csv' )\n",
        "\n",
        "df = pd.read_csv(input_csv_path)\n",
        "\n",
        "total_videos_used = 1295\n",
        "\n",
        "# Calculate the average number of KP used\n",
        "average_kp_used = df['KP Numbers'].mean()\n",
        "\n",
        "\n",
        "print(f\"Average KP Used: {average_kp_used}\")\n"
      ],
      "metadata": {
        "colab": {
          "base_uri": "https://localhost:8080/"
        },
        "id": "jfJanz3Ai1lz",
        "outputId": "a4792806-6f85-4f79-e7dd-3fd86e459760"
      },
      "execution_count": null,
      "outputs": [
        {
          "output_type": "stream",
          "name": "stdout",
          "text": [
            "Drive already mounted at /content/gdrive; to attempt to forcibly remount, call drive.mount(\"/content/gdrive\", force_remount=True).\n",
            "Average KP Used: 29.28725868725869\n"
          ]
        }
      ]
    },
    {
      "cell_type": "code",
      "source": [
        "import pandas as pd\n",
        "from collections import Counter\n",
        "import os\n",
        "import numpy as np\n",
        "\n",
        "# Extract the KP used column and count occurrences of each KP\n",
        "kp_used_counts = Counter()\n",
        "\n",
        "for kp_list in df['KP Used']:\n",
        "    # Convert string representation of list to actual list\n",
        "    kp_indices = eval(kp_list)\n",
        "    kp_used_counts.update(kp_indices)\n",
        "\n",
        "# Convert the counter to a DataFrame\n",
        "kp_used_df = pd.DataFrame(kp_used_counts.items(), columns=['KP Name', 'Used Time'])\n",
        "\n",
        "# Sort by used time in descending order\n",
        "kp_used_df = kp_used_df.sort_values(by='Used Time', ascending=False).reset_index(drop=True)\n",
        "\n",
        "# Calculate total video used and add '%' column with 2 decimal places\n",
        "\n",
        "kp_used_df['%'] = (kp_used_df['Used Time'] / total_videos_used * 100).round(2)\n",
        "\n",
        "# Calculate average KP used\n",
        "average_kp_used = df['KP Numbers'].mean()\n",
        "\n",
        "# Add a row at the beginning with the average KP used time and an empty row after this row\n",
        "average_kp_row = pd.DataFrame({'ranking': [''], 'KP Name': ['Average KP Used Time'], 'Used Time': [round((average_kp_used),2)], '%': ['']})\n",
        "empty_row = pd.DataFrame({'ranking': [''], 'KP Name': [''], 'Used Time': [''], '%': ['']})\n",
        "\n",
        "# Concatenate the rows to the bottom of the DataFrame\n",
        "kp_used_df = pd.concat([kp_used_df, empty_row, average_kp_row]).reset_index(drop=True)\n",
        "\n",
        "# Add a ranking column\n",
        "kp_used_df['ranking'] = range(1, len(kp_used_df) +1)\n",
        "kp_used_df = kp_used_df[['ranking', 'KP Name', 'Used Time', '%']]  # Reorder columns\n",
        "\n",
        "kp_used_df.loc[len(kp_used_df)-2:, 'ranking'] = ''  # Set the last 3 rows 'ranking' to empty string\n",
        "kp_used_df = kp_used_df[['ranking', 'KP Name', 'Used Time', '%']]  # Reorder columns\n",
        "\n",
        "print(kp_used_df)\n",
        "\n",
        "# Define the output path and ensure the directory exists\n",
        "output_dir = \"path/to/output/directory/\"\n",
        "output_csv_path = os.path.join(output_dir, \"kp_used_counts.csv\")\n",
        "\n",
        "os.makedirs(output_dir, exist_ok=True)\n",
        "\n",
        "# Save to CSV\n",
        "kp_used_df.to_csv(output_csv_path, index=False)\n",
        "\n",
        "print(f\"\\nKP used counts saved to {output_csv_path}\")\n"
      ],
      "metadata": {
        "colab": {
          "base_uri": "https://localhost:8080/"
        },
        "id": "peOLsbKsIjMc",
        "outputId": "c25cb19d-a68e-46ba-c837-9bf005d8bc9c"
      },
      "execution_count": null,
      "outputs": [
        {
          "output_type": "stream",
          "name": "stdout",
          "text": [
            "   ranking               KP Name Used Time      %\n",
            "0        1                     0      1295  100.0\n",
            "1        2                    23      1295  100.0\n",
            "2        3                    24      1295  100.0\n",
            "3        4                    12      1295  100.0\n",
            "4        5                    11      1295  100.0\n",
            "5        6                    10      1295  100.0\n",
            "6        7                     9      1295  100.0\n",
            "7        8                     8      1295  100.0\n",
            "8        9                     7      1295  100.0\n",
            "9       10                     6      1295  100.0\n",
            "10      11                     5      1295  100.0\n",
            "11      12                     4      1295  100.0\n",
            "12      13                     3      1295  100.0\n",
            "13      14                     2      1295  100.0\n",
            "14      15                     1      1295  100.0\n",
            "15      16                    31      1258  97.14\n",
            "16      17                    29      1249  96.45\n",
            "17      18                    30      1244  96.06\n",
            "18      19                    32      1232  95.14\n",
            "19      20                    27      1223  94.44\n",
            "20      21                    28      1197  92.43\n",
            "21      22                    26      1174  90.66\n",
            "22      23                    25      1109  85.64\n",
            "23      24                    15       896  69.19\n",
            "24      25                    13       895  69.11\n",
            "25      26                    17       891   68.8\n",
            "26      27                    19       889  68.65\n",
            "27      28                    14       885  68.34\n",
            "28      29                    21       882  68.11\n",
            "29      30                    16       880  67.95\n",
            "30      31                    18       870  67.18\n",
            "31      32                    20       867  66.95\n",
            "32      33                    22       861  66.49\n",
            "33                                               \n",
            "34          Average KP Used Time     29.29       \n",
            "\n",
            "KP used counts saved to path/to/output/directory/kp_used_counts.csv\n"
          ]
        }
      ]
    }
  ]
}