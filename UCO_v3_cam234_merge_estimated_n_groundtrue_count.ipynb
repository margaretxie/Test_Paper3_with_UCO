{
  "nbformat": 4,
  "nbformat_minor": 0,
  "metadata": {
    "colab": {
      "provenance": [],
      "gpuType": "T4",
      "authorship_tag": "ABX9TyM5ZCf23m1L63U1/YAJlVWt",
      "include_colab_link": true
    },
    "kernelspec": {
      "name": "python3",
      "display_name": "Python 3"
    },
    "language_info": {
      "name": "python"
    }
  },
  "cells": [
    {
      "cell_type": "markdown",
      "metadata": {
        "id": "view-in-github",
        "colab_type": "text"
      },
      "source": [
        "<a href=\"https://colab.research.google.com/github/margaretxie/Test_Paper3_with_UCO/blob/main/UCO_v3_cam234_merge_estimated_n_groundtrue_count.ipynb\" target=\"_parent\"><img src=\"https://colab.research.google.com/assets/colab-badge.svg\" alt=\"Open In Colab\"/></a>"
      ]
    },
    {
      "cell_type": "code",
      "execution_count": 1,
      "metadata": {
        "id": "KYlqkzmZseRl"
      },
      "outputs": [],
      "source": [
        "#test paper 3 - the HK one - with UCO dataset (only cam234, not cam 0 1, total 1296 videos )\n",
        "\n",
        "# Paper 3 - https://link.springer.com/article/10.1007/s13755-023-00258-3  -skeleton based repeptition count method\n",
        "# The paper's code - webpage: https://github.com/YuChengHSU/repetition-counting/tree/main\n",
        "\n",
        "# UCO dataset [paper20] - downloaded from  http://rabinf24.uco.es/avaphy/    (Outlook Emailed got access )\n",
        "\n",
        "# v3: merge_estimated_n_groundtrue_count\n",
        "# v2: apply paper3's model to filtered KPs which visibility >=threshold\n",
        "# v1: extract each videos' KPs  (this code only for half cameras (2,3,4))\n",
        "# v0: framework of looping all the .mp4 files, with name PnAn (Person*Action*)"
      ]
    },
    {
      "cell_type": "code",
      "source": [],
      "metadata": {
        "id": "Eol4UsT4hsbU"
      },
      "execution_count": 1,
      "outputs": []
    },
    {
      "cell_type": "code",
      "source": [
        "################################# setup\n",
        "\n",
        "v=\"V3\"\n",
        "\n",
        "estimatedCountFile = \"V2_Cam234_output_202405260408pm.csv\"\n",
        "\n",
        "\n",
        "from google.colab import drive\n",
        "import pandas as pd\n",
        "import numpy as np\n",
        "import os\n",
        "\n",
        "\n",
        "# Mount Google Drive\n",
        "drive.mount('/content/gdrive')\n",
        "\n",
        "# File path on Google Drive\n",
        "input_csv_path =  '/content/gdrive/My Drive/repetition_dataset/UCO/results_cam234/V2_Cam234_output_202405260408pm.csv'\n",
        "base_path = '/content/gdrive/My Drive/repetition_dataset/UCO/results_cam234'\n",
        "\n",
        "\n",
        "output_csv_path = os.path.join(base_path,  f\"{v}_combined_estimated_and_groundtruth_counts.csv\")\n",
        "\n"
      ],
      "metadata": {
        "colab": {
          "base_uri": "https://localhost:8080/"
        },
        "id": "K4D79Bp7Z78B",
        "outputId": "7dc735c7-2282-4702-928f-dae0a201de84"
      },
      "execution_count": 8,
      "outputs": [
        {
          "output_type": "stream",
          "name": "stdout",
          "text": [
            "Drive already mounted at /content/gdrive; to attempt to forcibly remount, call drive.mount(\"/content/gdrive\", force_remount=True).\n"
          ]
        }
      ]
    },
    {
      "cell_type": "code",
      "source": [
        "################################# setup\n",
        "\n",
        "\n",
        "df = pd.read_csv(input_csv_path)\n",
        "\n",
        "# Rename the 'Video Name' column to 'Name'\n",
        "df.rename(columns={'Video Name': 'Name'}, inplace=True)\n",
        "\n",
        "# Add a new column 'count' with all values set to 4 (UCO dataset, all the actions were taken 4 times)\n",
        "df['count'] = 4\n",
        "\n",
        "# Add a new column 'type' with the two numbers after the letter 'a' in the 'Name' values\n",
        "df['type'] = df['Name'].apply(lambda x: x.split('a')[1][:2])\n",
        "\n",
        "\n",
        "# Save the updated DataFrame to the new CSV file\n",
        "df.to_csv(output_csv_path, index=False)\n",
        "\n",
        "\n",
        "print(f'\\n the combined estimated and groundtruth counts file has been save to {output_csv_path}')\n",
        "\n",
        "\n"
      ],
      "metadata": {
        "colab": {
          "base_uri": "https://localhost:8080/"
        },
        "id": "1cokoGGDizY7",
        "outputId": "ecfc7d78-76df-4d88-9bcd-82316a6f9c68"
      },
      "execution_count": 9,
      "outputs": [
        {
          "output_type": "stream",
          "name": "stdout",
          "text": [
            "\n",
            " the combined estimated and groundtruth counts file has been save to /content/gdrive/My Drive/repetition_dataset/UCO/results_cam234/V3_combined_estimated_and_groundtruth_counts.csv\n"
          ]
        }
      ]
    }
  ]
}