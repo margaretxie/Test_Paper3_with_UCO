{
  "nbformat": 4,
  "nbformat_minor": 0,
  "metadata": {
    "colab": {
      "provenance": [],
      "authorship_tag": "ABX9TyMkmN7r6A8LHIPRelcoRV0q",
      "include_colab_link": true
    },
    "kernelspec": {
      "name": "python3",
      "display_name": "Python 3"
    },
    "language_info": {
      "name": "python"
    }
  },
  "cells": [
    {
      "cell_type": "markdown",
      "metadata": {
        "id": "view-in-github",
        "colab_type": "text"
      },
      "source": [
        "<a href=\"https://colab.research.google.com/github/margaretxie/Test_Paper3_with_UCO/blob/main/0_getting_UCO_real_ground_truth_data.ipynb\" target=\"_parent\"><img src=\"https://colab.research.google.com/assets/colab-badge.svg\" alt=\"Open In Colab\"/></a>"
      ]
    },
    {
      "cell_type": "code",
      "execution_count": 3,
      "metadata": {
        "colab": {
          "base_uri": "https://localhost:8080/"
        },
        "id": "0ZdVtP50dPc3",
        "outputId": "a1a36bce-99ea-4d0e-f914-9c73c13359e7"
      },
      "outputs": [
        {
          "output_type": "stream",
          "name": "stdout",
          "text": [
            "Mounted at /content/gdrive\n",
            "The count for p1a12c3 is: 14.0\n"
          ]
        }
      ],
      "source": [
        "\n",
        "# FUNCTION for getting the UCO dataset real ground truth\n",
        "\n",
        "\n",
        "from google.colab import drive\n",
        "import os\n",
        "import pandas as pd\n",
        "import numpy as np\n",
        "\n",
        "import re\n",
        "\n",
        "\n",
        "drive.mount('/content/gdrive')\n",
        "\n",
        "# Base directory\n",
        "base_path = '/content/gdrive/My Drive/repetition_dataset/UCO/merged_UCO/clips_mp4'\n",
        "\n",
        "groundtruth = '/content/gdrive/My Drive/repetition_dataset/UCO/merged_UCO/0_Manually check groud truth number_D.xlsx'  # real ground truth table\n",
        "df = pd.read_excel(groundtruth)\n",
        "\n",
        "def get_count_from_excel(video_name, df):\n",
        "    # Parse person number and action number from video name\n",
        "    match = re.match(r'p(\\d+)a(\\d+)c', video_name)\n",
        "    if not match:\n",
        "        raise ValueError(f\"Invalid video name format: {video_name}\")\n",
        "\n",
        "    person_number = int(match.group(1))  # Extracted person number\n",
        "    action_number = match.group(2)  # Extracted action number as string to match column name format\n",
        "\n",
        "    # Construct the column name in the format 'A2', 'A3', etc.\n",
        "    action_column = f'A{action_number}'\n",
        "\n",
        "    # Fetch the count from the DataFrame\n",
        "    try:\n",
        "        count = df.loc[df['Person'] == person_number, action_column].values[0]\n",
        "    except KeyError:\n",
        "        raise ValueError(f\"Action code '{action_column}' not found in the Excel file.\")\n",
        "    except IndexError:\n",
        "        raise ValueError(f\"Person number '{person_number}' not found in the Excel file.\")\n",
        "\n",
        "    return count\n",
        "\n",
        "# testing\n",
        "video_name = \"p1a12c3\"\n",
        "count = get_count_from_excel(video_name, df)\n",
        "print(f'The count for {video_name} is: {count}')"
      ]
    }
  ]
}
