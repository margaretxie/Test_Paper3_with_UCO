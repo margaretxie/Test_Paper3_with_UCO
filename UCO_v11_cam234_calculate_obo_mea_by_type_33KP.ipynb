{
  "nbformat": 4,
  "nbformat_minor": 0,
  "metadata": {
    "colab": {
      "provenance": [],
      "authorship_tag": "ABX9TyPQRnJ6wchJSz3p5Pnq7+AQ",
      "include_colab_link": true
    },
    "kernelspec": {
      "name": "python3",
      "display_name": "Python 3"
    },
    "language_info": {
      "name": "python"
    }
  },
  "cells": [
    {
      "cell_type": "markdown",
      "metadata": {
        "id": "view-in-github",
        "colab_type": "text"
      },
      "source": [
        "<a href=\"https://colab.research.google.com/github/margaretxie/Test_Paper3_with_UCO/blob/main/UCO_v11_cam234_calculate_obo_mea_by_type_33KP.ipynb\" target=\"_parent\"><img src=\"https://colab.research.google.com/assets/colab-badge.svg\" alt=\"Open In Colab\"/></a>"
      ]
    },
    {
      "cell_type": "code",
      "execution_count": 1,
      "metadata": {
        "id": "jecQoX5JBC8p"
      },
      "outputs": [],
      "source": [
        "\n",
        "#test paper 3 - the HK one - with UCO dataset (only cam234, not cam 0 1, total 1296 videos )\n",
        "\n",
        "# Paper 3 - https://link.springer.com/article/10.1007/s13755-023-00258-3  -skeleton based repeptition count method\n",
        "# The paper's code - webpage: https://github.com/YuChengHSU/repetition-counting/tree/main\n",
        "\n",
        "# UCO dataset [paper20] - downloaded from  http://rabinf24.uco.es/avaphy/    (Outlook Emailed got access )\n",
        "\n",
        "# v11: v8_based, 10 manually picked KPs_action 14_ obo, mea\n",
        "# v10: v7_based, merge estimated n and groundtrue (4),only for \"a14\" with 10 manually picked KPs\n",
        "# v9: v6_based,for testing KPselection- only 81 videos of action 14 \"a14\", and only with KPs from 13-22 (10 KPs)\n",
        "\n",
        "\n",
        "# v8: v4_based, 33KPs_obo, mea by type\n",
        "# v7: v3_based, 33KPs_ merge_estimated_n_groundtrue_count\n",
        "# v6: v2_based, apply original paper3 model (using whole 33 KPs)\n",
        "# v5: average KP used, popular KPs analyst\n",
        "# v4: calculate obo, mea according to action types (1-16)\n",
        "# v3: merge_estimated_n_groundtrue_count\n",
        "# v2: apply paper3's model to filtered KPs which visibility >=threshold\n",
        "# v1: extract each videos' KPs  (this code only for half cameras (2,3,4))\n",
        "# v0: framework of looping all the .mp4 files, with name PnAn (Person*Action*)"
      ]
    },
    {
      "cell_type": "code",
      "source": [
        "from types import new_class\n",
        "from google.colab import drive\n",
        "import pandas as pd\n",
        "import numpy as np\n",
        "import os\n",
        "\n",
        "# Mount Google Drive\n",
        "drive.mount('/content/gdrive')\n",
        "\n",
        "v=\"11\"\n",
        "\n",
        "# File path on Google Drive\n",
        "base_path = base_path = '/content/gdrive/My Drive/repetition_dataset/UCO/results_cam234_a14_only'\n",
        "\n",
        "file_path = os.path.join(base_path, 'V10_combined_estimated_and_groundtruth_counts_a14_10KP.csv' )\n",
        "new_file_path = os.path.join(base_path, f'V{v}_OBO_MAE_10KP_a14.csv' )\n",
        "\n",
        "# Load the data\n",
        "data = pd.read_csv(file_path)\n",
        "\n",
        "# calculate OBO Correct Classification Rate\n",
        "def calculate_obo(data):\n",
        "    # Calculate OBO as the rate of correct classifications\n",
        "    obo_correct = (abs(data['Estimated Count'] - data['count']) <= 1).mean()\n",
        "    return obo_correct  # Higher is better (correct classification rate)\n",
        "\n",
        "# Function to calculate MAE\n",
        "def calculate_mae(data):\n",
        "    conditions = data['count'] != 0\n",
        "    data.loc[conditions, 'MAE'] = abs(data['Estimated Count'] - data['count']) / data['count']\n",
        "    data.loc[~conditions, 'MAE'] = np.nan  # Treat division by zero cases as NaN\n",
        "    return data['MAE'].mean(skipna=True)\n",
        "\n",
        "# Calculating metrics for each type and overall\n",
        "results = []\n",
        "for type_ in data['type'].unique():\n",
        "    type_data = data[data['type'] == type_].copy()\n",
        "    obo_correct = calculate_obo(type_data)\n",
        "    mae = calculate_mae(type_data)\n",
        "    record_count = type_data.shape[0]\n",
        "    results.append({'Type': type_, 'OBO (Higher Better)': round(obo_correct, 2), 'MAE (Lower Better)': round(mae, 2), 'Record Count': record_count})\n",
        "\n",
        "# Convert to DataFrame\n",
        "results_df = pd.DataFrame(results)\n",
        "\n",
        "# Calculate overall metrics\n",
        "overall_obo = calculate_obo(data)\n",
        "overall_mae = calculate_mae(data)\n",
        "\n",
        "# Append overall metrics to the DataFrame using pd.concat\n",
        "overall_df = pd.DataFrame([{'Type': 'Overall', 'OBO (Higher Better)': round(overall_obo, 2), 'MAE (Lower Better)': round(overall_mae, 2), 'Record Count': data.shape[0]}])\n",
        "results_df = pd.concat([results_df, overall_df], ignore_index=True)\n",
        "\n",
        "# Sort the DataFrame by OBO Correct Rate in ascending order\n",
        "results_df = results_df.sort_values('OBO (Higher Better)', ascending=True)\n",
        "\n",
        "# Print the sorted DataFrame before saving\n",
        "\n",
        "print('')\n",
        "print('')\n",
        "print('     V8_UCO_Paper3_Origianl(33KPs)_CAM234_OBO_MEA_by_type  f=25')\n",
        "print('   ===============================================================')\n",
        "print('')\n",
        "print(results_df)\n",
        "\n",
        "# Save to new CSV file\n",
        "results_df.to_csv(new_file_path, index=False)\n",
        "\n"
      ],
      "metadata": {
        "colab": {
          "base_uri": "https://localhost:8080/"
        },
        "id": "jfJanz3Ai1lz",
        "outputId": "54bb56af-3de6-45bb-94b9-83558d8147fd"
      },
      "execution_count": 2,
      "outputs": [
        {
          "output_type": "stream",
          "name": "stdout",
          "text": [
            "Mounted at /content/gdrive\n",
            "\n",
            "\n",
            "     V8_UCO_Paper3_Origianl(33KPs)_CAM234_OBO_MEA_by_type  f=25\n",
            "   ===============================================================\n",
            "\n",
            "      Type  OBO (Higher Better)  MAE (Lower Better)  Record Count\n",
            "0       14                 0.72                0.41            81\n",
            "1  Overall                 0.72                0.41            81\n"
          ]
        }
      ]
    }
  ]
}